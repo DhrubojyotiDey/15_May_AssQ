{
 "cells": [
  {
   "cell_type": "code",
   "execution_count": null,
   "id": "23c45a50-ac31-44b9-a883-22f7e6c1670c",
   "metadata": {},
   "outputs": [],
   "source": [
    "# <-- This is s comment. This only comments one single line.\n",
    "\"\"\" If we want to put any continuous line \n",
    "that also includes lower lines then we put it within ''' quotes '''.\"\"\"\n",
    "'''We can also use single quotes for this, the bottom line is to end the quotes'''"
   ]
  },
  {
   "cell_type": "code",
   "execution_count": null,
   "id": "575e01d6-f240-4e36-bd47-d9b2cf69dfc7",
   "metadata": {},
   "outputs": [],
   "source": [
    "#Variables in Python are used to store data values. To declare and assign values to variables, use the syntax variable_name = value. For example:\n",
    "\n",
    "age = 40\n",
    "name = \"Krish sir\"\n",
    "numbers = [1, 2, 3, 4, 5]\n",
    "\n",
    "#Variables in Python are used to store data values. To declare and assign values to variables, use the syntax `variable_name = value`. For example:\n",
    "\n",
    "\n",
    "Here, age is assigned the value 40, name is assigned the string \"Krish sir\", and numbers is assigned the list [1, 2, 3, 4, 5]."
   ]
  },
  {
   "cell_type": "code",
   "execution_count": null,
   "id": "4d04a6f2-1ee5-49c7-89b6-74d4cc775ee4",
   "metadata": {},
   "outputs": [],
   "source": [
    "'''To convert data types in Python, you can use type conversion functions like int(), float(), str(), list(), tuple(), dict(), and bool()\n",
    "for example:'''\n",
    "\n",
    "age = int(\"25\")\n",
    "age_str = str(25)\n",
    "numbers_tuple = tuple([1, 2, 3, 4, 5])\n",
    "x = int(3.14)\n",
    "\n",
    "#Here, we converted a string to an integer, an integer to a string, a list to a tuple, and a float to an integer using the appropriate type conversion functions.\n"
   ]
  },
  {
   "cell_type": "code",
   "execution_count": null,
   "id": "1b5ccc11-71a0-4381-b825-f704e66e68f4",
   "metadata": {},
   "outputs": [],
   "source": [
    "#To execute a program in cmd we go to the folder location of the file and then type: python <file_name>.py"
   ]
  },
  {
   "cell_type": "code",
   "execution_count": null,
   "id": "47c54f3a-72a0-4448-8e62-f9cc4b11c9b9",
   "metadata": {},
   "outputs": [],
   "source": [
    "my_list = [1, 2, 3, 4, 5]\n",
    "sub_list = my_list[1:3]\n",
    "print(sub_list)\n"
   ]
  },
  {
   "cell_type": "code",
   "execution_count": null,
   "id": "2a785803-dbea-4a68-8925-8faa838a4499",
   "metadata": {},
   "outputs": [],
   "source": [
    "# Using the complex() function\n",
    "z1 = complex(2, 3)  # 2 + 3i\n",
    "z2 = complex(4, -1)  # 4 - 1i\n",
    "\n",
    "# Directly specifying the real and imaginary parts\n",
    "z3 = 5 + 2j  # 5 + 2i\n",
    "z4 = -3 - 6j  # -3 - 6i\n"
   ]
  },
  {
   "cell_type": "code",
   "execution_count": null,
   "id": "816f9bc5-a281-48b1-ab59-a646ea25b872",
   "metadata": {},
   "outputs": [],
   "source": [
    "age = 25"
   ]
  },
  {
   "cell_type": "code",
   "execution_count": null,
   "id": "9072289c-8aac-4b49-92dd-b61dab973475",
   "metadata": {},
   "outputs": [],
   "source": [
    "#The variable 'price' belongs to the 'float' data type in Python."
   ]
  },
  {
   "cell_type": "code",
   "execution_count": null,
   "id": "031a8b51-3d2f-4ad0-bb4b-9ec0af18c3fb",
   "metadata": {},
   "outputs": [],
   "source": [
    "name = \"Your Full Name\"\n",
    "print(name)"
   ]
  },
  {
   "cell_type": "code",
   "execution_count": null,
   "id": "cea196cf-e44a-4ca7-a9e8-1fd19baa5721",
   "metadata": {},
   "outputs": [],
   "source": [
    "string = \"Hello, World!\"\n",
    "substring = string[7:12]\n",
    "print(substring)"
   ]
  },
  {
   "cell_type": "code",
   "execution_count": null,
   "id": "aca93ca1-50ba-449a-976e-6922a8ffcce7",
   "metadata": {},
   "outputs": [],
   "source": [
    "is_student = True\n"
   ]
  }
 ],
 "metadata": {
  "kernelspec": {
   "display_name": "Python 3 (ipykernel)",
   "language": "python",
   "name": "python3"
  },
  "language_info": {
   "codemirror_mode": {
    "name": "ipython",
    "version": 3
   },
   "file_extension": ".py",
   "mimetype": "text/x-python",
   "name": "python",
   "nbconvert_exporter": "python",
   "pygments_lexer": "ipython3",
   "version": "3.10.8"
  }
 },
 "nbformat": 4,
 "nbformat_minor": 5
}
